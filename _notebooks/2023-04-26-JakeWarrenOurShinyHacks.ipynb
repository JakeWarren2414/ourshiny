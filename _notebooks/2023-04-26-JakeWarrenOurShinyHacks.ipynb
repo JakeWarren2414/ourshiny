{
 "cells": [
  {
   "attachments": {},
   "cell_type": "markdown",
   "metadata": {},
   "source": [
    "# Our Shiny Hacks\n",
    "- title: Our Shiyn Hacks\n",
    "- toc: true\n",
    "- layout: base\n",
    "- badges: true\n",
    "- categories: [. Practice]\n",
    "- description: Hacks"
   ]
  },
  {
   "attachments": {},
   "cell_type": "markdown",
   "metadata": {},
   "source": [
    "# Hacks and Point Division 0.9/1\n",
    "\n",
    "- Popcorn questions answered within lesson (.2)\n",
    "- Screenshot showing proof that conda is installed (.1)\n",
    "- Create 3 quiz questions to demonstrate the main steps in creating a repository on Github (.1)\n",
    "- Fetch from a third party API, and display json data. Then use the json data in any simple JavaScript function (hint: parse, this makes json data into a JavaScript object) (.4)\n",
    "  - In your code, comment on how you implemented a 3rd party API. Reflect on how using the 3rd party API helped.\n",
    "- Pull request successful completion: (.1)\n",
    "\n",
    "Extra: Use fetch() and display data from an API, self-made or third party (.1)\n"
   ]
  },
  {
   "attachments": {},
   "cell_type": "markdown",
   "metadata": {},
   "source": [
    "## Quiz \n",
    "1. How can you create a repository on GitHub?\n",
    "    A. Start from scratch on GitHub\n",
    "    B. Pull Someone else's\n",
    "    C. Search online\n",
    "    D. Copy someone else\n",
    "2. How do you make a pull request?\n",
    "    A. Clone the repository\n",
    "    B. Fork a repository\n",
    "    C. Pull from vscode\n",
    "    D. Get a license\n",
    "3. Why do we have a READMe.md?\n",
    "    A. To get code\n",
    "    B. To give terms and service\n",
    "    C. To explain the website\n",
    "    D. To get images into the repository\n",
    "\n",
    "Answers: C, B, D.\n",
    "\n",
    "\n",
    "## Conda\n",
    "\n",
    "![command prompt view](https://github.com/kayleehou/myproject/blob/master/images/condaimage2.PNG?raw=true)\n",
    "- Here is my conda navigator procing I have it installed.\n",
    "\n",
    "## Popcorn Hacks:\n",
    "- What method should I use if I want to display some of the data stored in the backend?\n",
    "    - Get\n",
    "- What method would I use if something in the data is misspelled and I want to fix it real quick?\n",
    "    - Patch/Put\n",
    "- What method should I use if I want to add a new entry to the data?\n",
    "    - Post "
   ]
  },
  {
   "attachments": {},
   "cell_type": "markdown",
   "metadata": {},
   "source": [
    "## API + Bonus Hacks"
   ]
  },
  {
   "cell_type": "code",
   "execution_count": null,
   "metadata": {},
   "outputs": [],
   "source": [
    "import requests\n",
    "import json\n",
    "\n",
    "url = 'https://random-data-api.com/api/color/random_color'\n",
    "\n",
    "response = requests.get(url)\n",
    "\n",
    "if response.status_code == 200:\n",
    "    data = json.loads(response.text)\n",
    "    print('Random color:', data['hex_value'])\n",
    "else:\n",
    "    print('Error:', response.status_code)\n",
    "## This api creates a random color and it is helpful because there are a very large amount of colors so i can't type them all myself."
   ]
  }
 ],
 "metadata": {
  "language_info": {
   "name": "python"
  },
  "orig_nbformat": 4
 },
 "nbformat": 4,
 "nbformat_minor": 2
}
